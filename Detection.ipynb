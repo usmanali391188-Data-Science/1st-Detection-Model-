{
  "nbformat": 4,
  "nbformat_minor": 0,
  "metadata": {
    "colab": {
      "provenance": [],
      "gpuType": "T4"
    },
    "kernelspec": {
      "name": "python3",
      "display_name": "Python 3"
    },
    "language_info": {
      "name": "python"
    },
    "accelerator": "GPU"
  },
  "cells": [
    {
      "cell_type": "code",
      "execution_count": null,
      "metadata": {
        "id": "ZUEYQ8w-EjjX"
      },
      "outputs": [],
      "source": [
        "!pip install ultralytics"
      ]
    },
    {
      "cell_type": "code",
      "source": [
        "from ultralytics import YOLO\n",
        "import cv2\n",
        "from google.colab.patches import cv2_imshow\n",
        "\n"
      ],
      "metadata": {
        "id": "FNR6MDenEvtk"
      },
      "execution_count": null,
      "outputs": []
    },
    {
      "cell_type": "code",
      "source": [
        "model = YOLO(\"yolo11n.pt\")\n"
      ],
      "metadata": {
        "id": "0C-2Wy3vFFTI"
      },
      "execution_count": null,
      "outputs": []
    },
    {
      "cell_type": "code",
      "source": [
        "results = model('car.jpg')\n",
        "results[0].save('output_img.jpg')"
      ],
      "metadata": {
        "colab": {
          "base_uri": "https://localhost:8080/",
          "height": 87
        },
        "id": "I7X1IK-wFLzk",
        "outputId": "f3f19945-d0ed-4ba1-aaf9-0ce2f6a4b0ee"
      },
      "execution_count": null,
      "outputs": [
        {
          "output_type": "stream",
          "name": "stdout",
          "text": [
            "\n",
            "image 1/1 /content/car.jpg: 448x640 12 cars, 1 truck, 68.9ms\n",
            "Speed: 11.4ms preprocess, 68.9ms inference, 10.5ms postprocess per image at shape (1, 3, 448, 640)\n"
          ]
        },
        {
          "output_type": "execute_result",
          "data": {
            "text/plain": [
              "'output_img.jpg'"
            ],
            "application/vnd.google.colaboratory.intrinsic+json": {
              "type": "string"
            }
          },
          "metadata": {},
          "execution_count": 9
        }
      ]
    },
    {
      "cell_type": "code",
      "source": [
        "from google.colab import drive\n",
        "drive.mount('/content/drive')"
      ],
      "metadata": {
        "colab": {
          "base_uri": "https://localhost:8080/"
        },
        "id": "h5rfqtfBGIUH",
        "outputId": "f63984aa-c273-4ee2-fa45-53dd87411278"
      },
      "execution_count": null,
      "outputs": [
        {
          "output_type": "stream",
          "name": "stdout",
          "text": [
            "Mounted at /content/drive\n"
          ]
        }
      ]
    },
    {
      "cell_type": "code",
      "source": [
        "!ls \"/content/drive/MyDrive/Road_Car.mp4\"\n"
      ],
      "metadata": {
        "colab": {
          "base_uri": "https://localhost:8080/"
        },
        "id": "1e54b7Aoi6cG",
        "outputId": "7d10f856-7a74-454e-d949-fbb9910cc127"
      },
      "execution_count": null,
      "outputs": [
        {
          "output_type": "stream",
          "name": "stdout",
          "text": [
            "/content/drive/MyDrive/Road_Car.mp4\n"
          ]
        }
      ]
    },
    {
      "cell_type": "code",
      "source": [
        "result = model.predict(source=\"/content/drive/MyDrive/Road_Car.mp4\", save=True)\n"
      ],
      "metadata": {
        "colab": {
          "base_uri": "https://localhost:8080/"
        },
        "id": "DXH1kjB-jRq8",
        "outputId": "9f345bd4-82fb-4b3c-f85e-ef9f7194a6a8"
      },
      "execution_count": null,
      "outputs": [
        {
          "output_type": "stream",
          "name": "stdout",
          "text": [
            "\n",
            "WARNING ⚠️ \n",
            "inference results will accumulate in RAM unless `stream=True` is passed, causing potential out-of-memory\n",
            "errors for large sources or long-running streams and videos. See https://docs.ultralytics.com/modes/predict/ for help.\n",
            "\n",
            "Example:\n",
            "    results = model(source=..., stream=True)  # generator of Results objects\n",
            "    for r in results:\n",
            "        boxes = r.boxes  # Boxes object for bbox outputs\n",
            "        masks = r.masks  # Masks object for segment masks outputs\n",
            "        probs = r.probs  # Class probabilities for classification outputs\n",
            "\n",
            "video 1/1 (frame 1/9184) /content/drive/MyDrive/Road_Car.mp4: 384x640 5 persons, 5 cars, 1 bus, 1 umbrella, 2354.4ms\n",
            "video 1/1 (frame 2/9184) /content/drive/MyDrive/Road_Car.mp4: 384x640 3 persons, 6 cars, 1 bus, 3823.6ms\n",
            "video 1/1 (frame 3/9184) /content/drive/MyDrive/Road_Car.mp4: 384x640 4 persons, 5 cars, 1 bus, 976.0ms\n",
            "video 1/1 (frame 4/9184) /content/drive/MyDrive/Road_Car.mp4: 384x640 3 persons, 5 cars, 1 bus, 581.8ms\n",
            "video 1/1 (frame 5/9184) /content/drive/MyDrive/Road_Car.mp4: 384x640 4 persons, 5 cars, 1 bus, 2511.7ms\n",
            "video 1/1 (frame 6/9184) /content/drive/MyDrive/Road_Car.mp4: 384x640 3 persons, 5 cars, 1 bus, 3051.5ms\n",
            "video 1/1 (frame 7/9184) /content/drive/MyDrive/Road_Car.mp4: 384x640 2 persons, 5 cars, 1 bus, 7492.0ms\n",
            "video 1/1 (frame 8/9184) /content/drive/MyDrive/Road_Car.mp4: 384x640 3 persons, 6 cars, 1 bus, 1 truck, 1313.7ms\n",
            "video 1/1 (frame 9/9184) /content/drive/MyDrive/Road_Car.mp4: 384x640 3 persons, 5 cars, 1 bus, 1 truck, 2402.8ms\n",
            "video 1/1 (frame 10/9184) /content/drive/MyDrive/Road_Car.mp4: 384x640 3 persons, 5 cars, 1 bus, 3131.6ms\n",
            "video 1/1 (frame 11/9184) /content/drive/MyDrive/Road_Car.mp4: 384x640 3 persons, 6 cars, 1 bus, 1 truck, 1227.8ms\n",
            "video 1/1 (frame 12/9184) /content/drive/MyDrive/Road_Car.mp4: 384x640 3 persons, 6 cars, 1 bus, 6915.6ms\n",
            "video 1/1 (frame 13/9184) /content/drive/MyDrive/Road_Car.mp4: 384x640 3 persons, 6 cars, 1 bus, 2097.7ms\n",
            "video 1/1 (frame 14/9184) /content/drive/MyDrive/Road_Car.mp4: 384x640 2 persons, 6 cars, 1 bus, 3394.2ms\n",
            "video 1/1 (frame 15/9184) /content/drive/MyDrive/Road_Car.mp4: 384x640 2 persons, 6 cars, 1 bus, 1 truck, 748.0ms\n",
            "video 1/1 (frame 16/9184) /content/drive/MyDrive/Road_Car.mp4: 384x640 2 persons, 5 cars, 2 buss, 928.7ms\n",
            "video 1/1 (frame 17/9184) /content/drive/MyDrive/Road_Car.mp4: 384x640 2 persons, 6 cars, 2 buss, 14250.7ms\n",
            "video 1/1 (frame 18/9184) /content/drive/MyDrive/Road_Car.mp4: 384x640 3 persons, 5 cars, 1 bus, 1 truck, 1 umbrella, 779.4ms\n",
            "WARNING ⚠️ NMS time limit 2.050s exceeded\n",
            "video 1/1 (frame 19/9184) /content/drive/MyDrive/Road_Car.mp4: 384x640 2 persons, 7 cars, 1 bus, 1 train, 775.1ms\n",
            "video 1/1 (frame 20/9184) /content/drive/MyDrive/Road_Car.mp4: 384x640 2 persons, 7 cars, 1 bus, 1 train, 1 truck, 1 umbrella, 1568.6ms\n",
            "video 1/1 (frame 21/9184) /content/drive/MyDrive/Road_Car.mp4: 384x640 2 persons, 7 cars, 1 bus, 1 umbrella, 2230.5ms\n",
            "video 1/1 (frame 22/9184) /content/drive/MyDrive/Road_Car.mp4: 384x640 3 persons, 7 cars, 1 bus, 1 train, 1 umbrella, 832.0ms\n",
            "video 1/1 (frame 23/9184) /content/drive/MyDrive/Road_Car.mp4: 384x640 2 persons, 7 cars, 1 bus, 1238.6ms\n",
            "video 1/1 (frame 24/9184) /content/drive/MyDrive/Road_Car.mp4: 384x640 2 persons, 7 cars, 1 bus, 1 train, 2539.8ms\n",
            "video 1/1 (frame 25/9184) /content/drive/MyDrive/Road_Car.mp4: 384x640 3 persons, 6 cars, 1 bus, 1 train, 816.0ms\n",
            "WARNING ⚠️ NMS time limit 2.050s exceeded\n",
            "video 1/1 (frame 26/9184) /content/drive/MyDrive/Road_Car.mp4: 384x640 2 persons, 6 cars, 1 bus, 1 train, 1 umbrella, 911.0ms\n",
            "WARNING ⚠️ NMS time limit 2.050s exceeded\n",
            "video 1/1 (frame 27/9184) /content/drive/MyDrive/Road_Car.mp4: 384x640 2 persons, 6 cars, 1 bus, 1 train, 1 umbrella, 857.8ms\n",
            "video 1/1 (frame 28/9184) /content/drive/MyDrive/Road_Car.mp4: 384x640 2 persons, 6 cars, 1 bus, 1 train, 1 umbrella, 3541.8ms\n",
            "video 1/1 (frame 29/9184) /content/drive/MyDrive/Road_Car.mp4: 384x640 4 persons, 7 cars, 1 bus, 1 train, 1 umbrella, 1013.2ms\n",
            "video 1/1 (frame 30/9184) /content/drive/MyDrive/Road_Car.mp4: 384x640 3 persons, 7 cars, 1 bus, 1 train, 1 umbrella, 2899.4ms\n",
            "video 1/1 (frame 31/9184) /content/drive/MyDrive/Road_Car.mp4: 384x640 3 persons, 7 cars, 2 trains, 12151.4ms\n",
            "video 1/1 (frame 32/9184) /content/drive/MyDrive/Road_Car.mp4: 384x640 3 persons, 5 cars, 1 train, 3804.8ms\n",
            "video 1/1 (frame 33/9184) /content/drive/MyDrive/Road_Car.mp4: 384x640 3 persons, 5 cars, 1 train, 1 truck, 661.5ms\n",
            "WARNING ⚠️ NMS time limit 2.050s exceeded\n",
            "video 1/1 (frame 34/9184) /content/drive/MyDrive/Road_Car.mp4: 384x640 3 persons, 5 cars, 1 train, 1 truck, 9666.2ms\n",
            "video 1/1 (frame 35/9184) /content/drive/MyDrive/Road_Car.mp4: 384x640 3 persons, 5 cars, 1 train, 4332.2ms\n",
            "video 1/1 (frame 36/9184) /content/drive/MyDrive/Road_Car.mp4: 384x640 3 persons, 6 cars, 1 train, 812.1ms\n",
            "video 1/1 (frame 37/9184) /content/drive/MyDrive/Road_Car.mp4: 384x640 2 persons, 7 cars, 1 train, 1 truck, 11063.1ms\n",
            "video 1/1 (frame 38/9184) /content/drive/MyDrive/Road_Car.mp4: 384x640 2 persons, 8 cars, 1 train, 1 truck, 696.7ms\n",
            "video 1/1 (frame 39/9184) /content/drive/MyDrive/Road_Car.mp4: 384x640 2 persons, 8 cars, 2 buss, 1 train, 1 truck, 738.7ms\n",
            "video 1/1 (frame 40/9184) /content/drive/MyDrive/Road_Car.mp4: 384x640 3 persons, 9 cars, 1 bus, 1 train, 3434.4ms\n",
            "video 1/1 (frame 41/9184) /content/drive/MyDrive/Road_Car.mp4: 384x640 3 persons, 9 cars, 1 bus, 1 train, 2558.6ms\n",
            "video 1/1 (frame 42/9184) /content/drive/MyDrive/Road_Car.mp4: 384x640 1 person, 5 cars, 2 buss, 1 train, 1 truck, 2068.1ms\n",
            "video 1/1 (frame 43/9184) /content/drive/MyDrive/Road_Car.mp4: 384x640 3 persons, 7 cars, 2 buss, 1 train, 3563.0ms\n",
            "video 1/1 (frame 44/9184) /content/drive/MyDrive/Road_Car.mp4: 384x640 2 persons, 8 cars, 2 buss, 1 train, 1 truck, 668.1ms\n",
            "video 1/1 (frame 45/9184) /content/drive/MyDrive/Road_Car.mp4: 384x640 3 persons, 6 cars, 3 buss, 1 train, 1 truck, 696.6ms\n",
            "video 1/1 (frame 46/9184) /content/drive/MyDrive/Road_Car.mp4: 384x640 3 persons, 8 cars, 2 buss, 1 train, 2 trucks, 1365.1ms\n",
            "video 1/1 (frame 47/9184) /content/drive/MyDrive/Road_Car.mp4: 384x640 3 persons, 7 cars, 2 buss, 1 truck, 658.2ms\n",
            "video 1/1 (frame 48/9184) /content/drive/MyDrive/Road_Car.mp4: 384x640 3 persons, 6 cars, 1 bus, 1 train, 1 truck, 790.4ms\n",
            "video 1/1 (frame 49/9184) /content/drive/MyDrive/Road_Car.mp4: 384x640 3 persons, 5 cars, 1 bus, 1 train, 2 trucks, 3596.8ms\n",
            "video 1/1 (frame 50/9184) /content/drive/MyDrive/Road_Car.mp4: 384x640 3 persons, 7 cars, 1 bus, 1 train, 1 truck, 6668.6ms\n",
            "video 1/1 (frame 51/9184) /content/drive/MyDrive/Road_Car.mp4: 384x640 2 persons, 7 cars, 2 trains, 1 truck, 738.9ms\n",
            "video 1/1 (frame 52/9184) /content/drive/MyDrive/Road_Car.mp4: 384x640 2 persons, 7 cars, 2 trains, 1 truck, 3211.8ms\n",
            "video 1/1 (frame 53/9184) /content/drive/MyDrive/Road_Car.mp4: 384x640 2 persons, 6 cars, 1 train, 652.9ms\n",
            "video 1/1 (frame 54/9184) /content/drive/MyDrive/Road_Car.mp4: 384x640 2 persons, 6 cars, 1 bus, 1 train, 678.4ms\n",
            "video 1/1 (frame 55/9184) /content/drive/MyDrive/Road_Car.mp4: 384x640 4 persons, 6 cars, 1 bus, 1 train, 2 trucks, 2284.3ms\n",
            "video 1/1 (frame 56/9184) /content/drive/MyDrive/Road_Car.mp4: 384x640 3 persons, 6 cars, 1 bus, 2 trucks, 1953.0ms\n",
            "video 1/1 (frame 57/9184) /content/drive/MyDrive/Road_Car.mp4: 384x640 2 persons, 6 cars, 1 bus, 2 trucks, 2207.3ms\n",
            "video 1/1 (frame 58/9184) /content/drive/MyDrive/Road_Car.mp4: 384x640 2 persons, 6 cars, 2 buss, 3910.0ms\n",
            "video 1/1 (frame 59/9184) /content/drive/MyDrive/Road_Car.mp4: 384x640 3 persons, 6 cars, 1 bus, 3069.6ms\n",
            "WARNING ⚠️ NMS time limit 2.050s exceeded\n",
            "video 1/1 (frame 60/9184) /content/drive/MyDrive/Road_Car.mp4: 384x640 2 persons, 5 cars, 1 bus, 1 truck, 2631.8ms\n",
            "video 1/1 (frame 61/9184) /content/drive/MyDrive/Road_Car.mp4: 384x640 1 person, 5 cars, 1 bus, 2 trucks, 1 umbrella, 683.3ms\n",
            "WARNING ⚠️ NMS time limit 2.050s exceeded\n",
            "video 1/1 (frame 62/9184) /content/drive/MyDrive/Road_Car.mp4: 384x640 2 persons, 6 cars, 1 truck, 1 umbrella, 1145.4ms\n",
            "video 1/1 (frame 63/9184) /content/drive/MyDrive/Road_Car.mp4: 384x640 2 persons, 6 cars, 2 trucks, 2871.5ms\n",
            "video 1/1 (frame 64/9184) /content/drive/MyDrive/Road_Car.mp4: 384x640 2 persons, 5 cars, 1 bus, 2 trucks, 1957.9ms\n",
            "video 1/1 (frame 65/9184) /content/drive/MyDrive/Road_Car.mp4: 384x640 1 person, 6 cars, 1 bus, 2 trucks, 3429.8ms\n"
          ]
        }
      ]
    }
  ]
}